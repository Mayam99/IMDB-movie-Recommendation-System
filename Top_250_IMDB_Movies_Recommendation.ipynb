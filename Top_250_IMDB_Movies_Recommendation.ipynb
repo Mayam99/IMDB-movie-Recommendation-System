{
  "nbformat": 4,
  "nbformat_minor": 0,
  "metadata": {
    "colab": {
      "provenance": []
    },
    "kernelspec": {
      "name": "python3",
      "display_name": "Python 3"
    },
    "language_info": {
      "name": "python"
    }
  },
  "cells": [
    {
      "cell_type": "markdown",
      "source": [
        "##Introduction to the IMDB Top 250 Movies Dataset\n",
        "####The IMDB Top 250 Movies dataset, available on Kaggle, offers a comprehensive list of the highest-rated movies according to user ratings on the Internet Movie Database (IMDB). This dataset is an invaluable resource for movie enthusiasts, data analysts, and machine learning practitioners alike. It provides a rich source of information that can be used for various analytical and predictive tasks, including sentiment analysis, recommendation systems, and trend analysis.\n",
        "####This dataset is having the data of the top 250 Movies as per their IMDB rating listed on the official website of IMDB\n",
        "\n",
        "##Features\n",
        "* rank - Movie Rank as per IMDB rating\n",
        "* movie_id - Movie ID\n",
        "* title - Name of the Movie\n",
        "* year - Year of Movie release\n",
        "* link - URL for the Movie\n",
        "* imdb_votes - Number of people who voted for the IMDB rating\n",
        "* imdb_rating - Rating of the Movie\n",
        "* certificate - Movie Certification\n",
        "* duration - Duration of the Movie\n",
        "* genre - Genre of the Movie\n",
        "* cast_id - ID of the cast member who have worked on the Movie\n",
        "* cast_name - Name of the cast member who have worked on the Movie\n",
        "* director_id - ID of the director who have directed the Movie\n",
        "* director_name - Name of the director who have directed the Movie\n",
        "* writer_id - ID of the writer who have wrote script for the Movie\n",
        "* writer_name - Name of the writer who have wrote script for the Movie\n",
        "* storyline - Storyline of the Movie\n",
        "* user_id - ID of the user who wrote review for the Movie\n",
        "* user_name - Name of the user who wrote review for the Movie\n",
        "* review_id - ID of the user review\n",
        "* review_title - Short review\n",
        "* review_content - Long review\n",
        "\n",
        "##Source\n",
        "https://www.kaggle.com/datasets/karkavelrajaj/imdb-top-250-movies\n",
        "\n",
        "##Importing Necessary Libraries"
      ],
      "metadata": {
        "id": "GGrM65LmNrGh"
      }
    },
    {
      "cell_type": "code",
      "execution_count": 1,
      "metadata": {
        "id": "HmtJiSsJHUJv"
      },
      "outputs": [],
      "source": [
        "import pandas as pd #Pandas is a powerful library for data manipulation and analysis."
      ]
    },
    {
      "cell_type": "code",
      "source": [
        "df = pd.read_csv('movies.csv') #Loading the dataset."
      ],
      "metadata": {
        "id": "ndhcU38ZOmr9"
      },
      "execution_count": 2,
      "outputs": []
    },
    {
      "cell_type": "markdown",
      "source": [
        "####We will now read the data from a CSV file into a Pandas DataFrame Let us have a look at how our dataset looks like using df.head()"
      ],
      "metadata": {
        "id": "gql7fM1rOtdq"
      }
    },
    {
      "cell_type": "code",
      "source": [
        "df.head() #Displays the first 5 rows of the dataset."
      ],
      "metadata": {
        "colab": {
          "base_uri": "https://localhost:8080/",
          "height": 655
        },
        "id": "DSuDpe93IVYk",
        "outputId": "6a92c6b5-57f0-4daf-df51-f6e7e3528b6b"
      },
      "execution_count": 3,
      "outputs": [
        {
          "output_type": "execute_result",
          "data": {
            "text/plain": [
              "   rank   movie_id                     title  year  \\\n",
              "0     1  tt0111161  The Shawshank Redemption  1994   \n",
              "1     2  tt0068646             The Godfather  1972   \n",
              "2     3  tt0468569           The Dark Knight  2008   \n",
              "3     4  tt0071562     The Godfather Part II  1974   \n",
              "4     5  tt0050083              12 Angry Men  1957   \n",
              "\n",
              "                                   link imbd_votes  imbd_rating certificate  \\\n",
              "0  https://www.imdb.com/title/tt0111161  2,711,075          9.3           R   \n",
              "1  https://www.imdb.com/title/tt0068646  1,882,829          9.2           R   \n",
              "2  https://www.imdb.com/title/tt0468569  2,684,051          9.0       PG-13   \n",
              "3  https://www.imdb.com/title/tt0071562  1,285,350          9.0           R   \n",
              "4  https://www.imdb.com/title/tt0050083    800,954          9.0    Approved   \n",
              "\n",
              "  duration               genre  ... director_id         director_name  \\\n",
              "0   2h 22m               Drama  ...   nm0001104        Frank Darabont   \n",
              "1   2h 55m         Crime,Drama  ...   nm0000338  Francis Ford Coppola   \n",
              "2   2h 32m  Action,Crime,Drama  ...   nm0634240     Christopher Nolan   \n",
              "3   3h 22m         Crime,Drama  ...   nm0000338  Francis Ford Coppola   \n",
              "4   1h 36m         Crime,Drama  ...   nm0001486          Sidney Lumet   \n",
              "\n",
              "                                           writer_id  \\\n",
              "0                                nm0000175,nm0001104   \n",
              "1                                nm0701374,nm0000338   \n",
              "2  tt0468569,nm0634300,nm0634240,nm0275286,tt0468569   \n",
              "3                                nm0000338,nm0701374   \n",
              "4                                          nm0741627   \n",
              "\n",
              "                                         writer_name  \\\n",
              "0                        Stephen King,Frank Darabont   \n",
              "1                    Mario Puzo,Francis Ford Coppola   \n",
              "2  Writers,Jonathan Nolan,Christopher Nolan,David...   \n",
              "3                    Francis Ford Coppola,Mario Puzo   \n",
              "4                                      Reginald Rose   \n",
              "\n",
              "                                           storyline  \\\n",
              "0  Over the course of several years, two convicts...   \n",
              "1  The aging patriarch of an organized crime dyna...   \n",
              "2  When the menace known as the Joker wreaks havo...   \n",
              "3  The early life and career of Vito Corleone in ...   \n",
              "4  The jury in a New York City murder trial is fr...   \n",
              "\n",
              "                                             user_id  \\\n",
              "0  ur16161013,ur15311310,ur0265899,ur16117882,ur1...   \n",
              "1  ur24740649,ur86182727,ur15794099,ur15311310,ur...   \n",
              "2  ur87850731,ur1293485,ur129557514,ur12449122,ur...   \n",
              "3  ur0176092,ur0688559,ur92260614,ur0200644,ur117...   \n",
              "4  ur1318549,ur0643062,ur0688559,ur20552756,ur945...   \n",
              "\n",
              "                                           user_name  \\\n",
              "0  hitchcockthelegend,Sleepin_Dragon,EyeDunno,ale...   \n",
              "1  CalRhys,andrewburgereviews,gogoschka-1,Sleepin...   \n",
              "2  MrHeraclius,Smells_Like_Cheese,dseferaj,little...   \n",
              "3  Nazi_Fighter_David,tfrizzell,umunir-36959,DanB...   \n",
              "4  uds3,tedg,tfrizzell,TheLittleSongbird,henrique...   \n",
              "\n",
              "                                           review_id  \\\n",
              "0  rw2284594,rw6606154,rw1221355,rw1822343,rw1288...   \n",
              "1  rw3038370,rw4756923,rw4059579,rw6568526,rw1897...   \n",
              "2  rw5478826,rw1914442,rw6606026,rw1917099,rw5170...   \n",
              "3  rw0135607,rw0135487,rw5049900,rw0135526,rw0135...   \n",
              "4  rw0060044,rw0060025,rw0060034,rw2262425,rw5448...   \n",
              "\n",
              "                                        review_title  \\\n",
              "0  Some birds aren't meant to be caged.,An incred...   \n",
              "1  The Pinnacle Of Flawless Films!,An offer so go...   \n",
              "2  The Dark Knight,The Batman of our dreams! So m...   \n",
              "3  Breathtaking in its scope and tragic grandeur....   \n",
              "4  The over-used term \"classic movie\" really come...   \n",
              "\n",
              "                                      review_content  \n",
              "0  The Shawshank Redemption is written and direct...  \n",
              "1  'The Godfather' is the pinnacle of flawless fi...  \n",
              "2  Confidently directed, dark, brooding, and pack...  \n",
              "3  Coppola's masterpiece is rivaled only by \"The ...  \n",
              "4  This once-in-a-generation masterpiece simply h...  \n",
              "\n",
              "[5 rows x 22 columns]"
            ],
            "text/html": [
              "\n",
              "  <div id=\"df-76020e4b-bad4-4cb0-8b72-fb2bf57bf8bb\" class=\"colab-df-container\">\n",
              "    <div>\n",
              "<style scoped>\n",
              "    .dataframe tbody tr th:only-of-type {\n",
              "        vertical-align: middle;\n",
              "    }\n",
              "\n",
              "    .dataframe tbody tr th {\n",
              "        vertical-align: top;\n",
              "    }\n",
              "\n",
              "    .dataframe thead th {\n",
              "        text-align: right;\n",
              "    }\n",
              "</style>\n",
              "<table border=\"1\" class=\"dataframe\">\n",
              "  <thead>\n",
              "    <tr style=\"text-align: right;\">\n",
              "      <th></th>\n",
              "      <th>rank</th>\n",
              "      <th>movie_id</th>\n",
              "      <th>title</th>\n",
              "      <th>year</th>\n",
              "      <th>link</th>\n",
              "      <th>imbd_votes</th>\n",
              "      <th>imbd_rating</th>\n",
              "      <th>certificate</th>\n",
              "      <th>duration</th>\n",
              "      <th>genre</th>\n",
              "      <th>...</th>\n",
              "      <th>director_id</th>\n",
              "      <th>director_name</th>\n",
              "      <th>writer_id</th>\n",
              "      <th>writer_name</th>\n",
              "      <th>storyline</th>\n",
              "      <th>user_id</th>\n",
              "      <th>user_name</th>\n",
              "      <th>review_id</th>\n",
              "      <th>review_title</th>\n",
              "      <th>review_content</th>\n",
              "    </tr>\n",
              "  </thead>\n",
              "  <tbody>\n",
              "    <tr>\n",
              "      <th>0</th>\n",
              "      <td>1</td>\n",
              "      <td>tt0111161</td>\n",
              "      <td>The Shawshank Redemption</td>\n",
              "      <td>1994</td>\n",
              "      <td>https://www.imdb.com/title/tt0111161</td>\n",
              "      <td>2,711,075</td>\n",
              "      <td>9.3</td>\n",
              "      <td>R</td>\n",
              "      <td>2h 22m</td>\n",
              "      <td>Drama</td>\n",
              "      <td>...</td>\n",
              "      <td>nm0001104</td>\n",
              "      <td>Frank Darabont</td>\n",
              "      <td>nm0000175,nm0001104</td>\n",
              "      <td>Stephen King,Frank Darabont</td>\n",
              "      <td>Over the course of several years, two convicts...</td>\n",
              "      <td>ur16161013,ur15311310,ur0265899,ur16117882,ur1...</td>\n",
              "      <td>hitchcockthelegend,Sleepin_Dragon,EyeDunno,ale...</td>\n",
              "      <td>rw2284594,rw6606154,rw1221355,rw1822343,rw1288...</td>\n",
              "      <td>Some birds aren't meant to be caged.,An incred...</td>\n",
              "      <td>The Shawshank Redemption is written and direct...</td>\n",
              "    </tr>\n",
              "    <tr>\n",
              "      <th>1</th>\n",
              "      <td>2</td>\n",
              "      <td>tt0068646</td>\n",
              "      <td>The Godfather</td>\n",
              "      <td>1972</td>\n",
              "      <td>https://www.imdb.com/title/tt0068646</td>\n",
              "      <td>1,882,829</td>\n",
              "      <td>9.2</td>\n",
              "      <td>R</td>\n",
              "      <td>2h 55m</td>\n",
              "      <td>Crime,Drama</td>\n",
              "      <td>...</td>\n",
              "      <td>nm0000338</td>\n",
              "      <td>Francis Ford Coppola</td>\n",
              "      <td>nm0701374,nm0000338</td>\n",
              "      <td>Mario Puzo,Francis Ford Coppola</td>\n",
              "      <td>The aging patriarch of an organized crime dyna...</td>\n",
              "      <td>ur24740649,ur86182727,ur15794099,ur15311310,ur...</td>\n",
              "      <td>CalRhys,andrewburgereviews,gogoschka-1,Sleepin...</td>\n",
              "      <td>rw3038370,rw4756923,rw4059579,rw6568526,rw1897...</td>\n",
              "      <td>The Pinnacle Of Flawless Films!,An offer so go...</td>\n",
              "      <td>'The Godfather' is the pinnacle of flawless fi...</td>\n",
              "    </tr>\n",
              "    <tr>\n",
              "      <th>2</th>\n",
              "      <td>3</td>\n",
              "      <td>tt0468569</td>\n",
              "      <td>The Dark Knight</td>\n",
              "      <td>2008</td>\n",
              "      <td>https://www.imdb.com/title/tt0468569</td>\n",
              "      <td>2,684,051</td>\n",
              "      <td>9.0</td>\n",
              "      <td>PG-13</td>\n",
              "      <td>2h 32m</td>\n",
              "      <td>Action,Crime,Drama</td>\n",
              "      <td>...</td>\n",
              "      <td>nm0634240</td>\n",
              "      <td>Christopher Nolan</td>\n",
              "      <td>tt0468569,nm0634300,nm0634240,nm0275286,tt0468569</td>\n",
              "      <td>Writers,Jonathan Nolan,Christopher Nolan,David...</td>\n",
              "      <td>When the menace known as the Joker wreaks havo...</td>\n",
              "      <td>ur87850731,ur1293485,ur129557514,ur12449122,ur...</td>\n",
              "      <td>MrHeraclius,Smells_Like_Cheese,dseferaj,little...</td>\n",
              "      <td>rw5478826,rw1914442,rw6606026,rw1917099,rw5170...</td>\n",
              "      <td>The Dark Knight,The Batman of our dreams! So m...</td>\n",
              "      <td>Confidently directed, dark, brooding, and pack...</td>\n",
              "    </tr>\n",
              "    <tr>\n",
              "      <th>3</th>\n",
              "      <td>4</td>\n",
              "      <td>tt0071562</td>\n",
              "      <td>The Godfather Part II</td>\n",
              "      <td>1974</td>\n",
              "      <td>https://www.imdb.com/title/tt0071562</td>\n",
              "      <td>1,285,350</td>\n",
              "      <td>9.0</td>\n",
              "      <td>R</td>\n",
              "      <td>3h 22m</td>\n",
              "      <td>Crime,Drama</td>\n",
              "      <td>...</td>\n",
              "      <td>nm0000338</td>\n",
              "      <td>Francis Ford Coppola</td>\n",
              "      <td>nm0000338,nm0701374</td>\n",
              "      <td>Francis Ford Coppola,Mario Puzo</td>\n",
              "      <td>The early life and career of Vito Corleone in ...</td>\n",
              "      <td>ur0176092,ur0688559,ur92260614,ur0200644,ur117...</td>\n",
              "      <td>Nazi_Fighter_David,tfrizzell,umunir-36959,DanB...</td>\n",
              "      <td>rw0135607,rw0135487,rw5049900,rw0135526,rw0135...</td>\n",
              "      <td>Breathtaking in its scope and tragic grandeur....</td>\n",
              "      <td>Coppola's masterpiece is rivaled only by \"The ...</td>\n",
              "    </tr>\n",
              "    <tr>\n",
              "      <th>4</th>\n",
              "      <td>5</td>\n",
              "      <td>tt0050083</td>\n",
              "      <td>12 Angry Men</td>\n",
              "      <td>1957</td>\n",
              "      <td>https://www.imdb.com/title/tt0050083</td>\n",
              "      <td>800,954</td>\n",
              "      <td>9.0</td>\n",
              "      <td>Approved</td>\n",
              "      <td>1h 36m</td>\n",
              "      <td>Crime,Drama</td>\n",
              "      <td>...</td>\n",
              "      <td>nm0001486</td>\n",
              "      <td>Sidney Lumet</td>\n",
              "      <td>nm0741627</td>\n",
              "      <td>Reginald Rose</td>\n",
              "      <td>The jury in a New York City murder trial is fr...</td>\n",
              "      <td>ur1318549,ur0643062,ur0688559,ur20552756,ur945...</td>\n",
              "      <td>uds3,tedg,tfrizzell,TheLittleSongbird,henrique...</td>\n",
              "      <td>rw0060044,rw0060025,rw0060034,rw2262425,rw5448...</td>\n",
              "      <td>The over-used term \"classic movie\" really come...</td>\n",
              "      <td>This once-in-a-generation masterpiece simply h...</td>\n",
              "    </tr>\n",
              "  </tbody>\n",
              "</table>\n",
              "<p>5 rows × 22 columns</p>\n",
              "</div>\n",
              "    <div class=\"colab-df-buttons\">\n",
              "\n",
              "  <div class=\"colab-df-container\">\n",
              "    <button class=\"colab-df-convert\" onclick=\"convertToInteractive('df-76020e4b-bad4-4cb0-8b72-fb2bf57bf8bb')\"\n",
              "            title=\"Convert this dataframe to an interactive table.\"\n",
              "            style=\"display:none;\">\n",
              "\n",
              "  <svg xmlns=\"http://www.w3.org/2000/svg\" height=\"24px\" viewBox=\"0 -960 960 960\">\n",
              "    <path d=\"M120-120v-720h720v720H120Zm60-500h600v-160H180v160Zm220 220h160v-160H400v160Zm0 220h160v-160H400v160ZM180-400h160v-160H180v160Zm440 0h160v-160H620v160ZM180-180h160v-160H180v160Zm440 0h160v-160H620v160Z\"/>\n",
              "  </svg>\n",
              "    </button>\n",
              "\n",
              "  <style>\n",
              "    .colab-df-container {\n",
              "      display:flex;\n",
              "      gap: 12px;\n",
              "    }\n",
              "\n",
              "    .colab-df-convert {\n",
              "      background-color: #E8F0FE;\n",
              "      border: none;\n",
              "      border-radius: 50%;\n",
              "      cursor: pointer;\n",
              "      display: none;\n",
              "      fill: #1967D2;\n",
              "      height: 32px;\n",
              "      padding: 0 0 0 0;\n",
              "      width: 32px;\n",
              "    }\n",
              "\n",
              "    .colab-df-convert:hover {\n",
              "      background-color: #E2EBFA;\n",
              "      box-shadow: 0px 1px 2px rgba(60, 64, 67, 0.3), 0px 1px 3px 1px rgba(60, 64, 67, 0.15);\n",
              "      fill: #174EA6;\n",
              "    }\n",
              "\n",
              "    .colab-df-buttons div {\n",
              "      margin-bottom: 4px;\n",
              "    }\n",
              "\n",
              "    [theme=dark] .colab-df-convert {\n",
              "      background-color: #3B4455;\n",
              "      fill: #D2E3FC;\n",
              "    }\n",
              "\n",
              "    [theme=dark] .colab-df-convert:hover {\n",
              "      background-color: #434B5C;\n",
              "      box-shadow: 0px 1px 3px 1px rgba(0, 0, 0, 0.15);\n",
              "      filter: drop-shadow(0px 1px 2px rgba(0, 0, 0, 0.3));\n",
              "      fill: #FFFFFF;\n",
              "    }\n",
              "  </style>\n",
              "\n",
              "    <script>\n",
              "      const buttonEl =\n",
              "        document.querySelector('#df-76020e4b-bad4-4cb0-8b72-fb2bf57bf8bb button.colab-df-convert');\n",
              "      buttonEl.style.display =\n",
              "        google.colab.kernel.accessAllowed ? 'block' : 'none';\n",
              "\n",
              "      async function convertToInteractive(key) {\n",
              "        const element = document.querySelector('#df-76020e4b-bad4-4cb0-8b72-fb2bf57bf8bb');\n",
              "        const dataTable =\n",
              "          await google.colab.kernel.invokeFunction('convertToInteractive',\n",
              "                                                    [key], {});\n",
              "        if (!dataTable) return;\n",
              "\n",
              "        const docLinkHtml = 'Like what you see? Visit the ' +\n",
              "          '<a target=\"_blank\" href=https://colab.research.google.com/notebooks/data_table.ipynb>data table notebook</a>'\n",
              "          + ' to learn more about interactive tables.';\n",
              "        element.innerHTML = '';\n",
              "        dataTable['output_type'] = 'display_data';\n",
              "        await google.colab.output.renderOutput(dataTable, element);\n",
              "        const docLink = document.createElement('div');\n",
              "        docLink.innerHTML = docLinkHtml;\n",
              "        element.appendChild(docLink);\n",
              "      }\n",
              "    </script>\n",
              "  </div>\n",
              "\n",
              "\n",
              "<div id=\"df-c5f439ee-40f2-4b81-8493-01745b5f9c5f\">\n",
              "  <button class=\"colab-df-quickchart\" onclick=\"quickchart('df-c5f439ee-40f2-4b81-8493-01745b5f9c5f')\"\n",
              "            title=\"Suggest charts\"\n",
              "            style=\"display:none;\">\n",
              "\n",
              "<svg xmlns=\"http://www.w3.org/2000/svg\" height=\"24px\"viewBox=\"0 0 24 24\"\n",
              "     width=\"24px\">\n",
              "    <g>\n",
              "        <path d=\"M19 3H5c-1.1 0-2 .9-2 2v14c0 1.1.9 2 2 2h14c1.1 0 2-.9 2-2V5c0-1.1-.9-2-2-2zM9 17H7v-7h2v7zm4 0h-2V7h2v10zm4 0h-2v-4h2v4z\"/>\n",
              "    </g>\n",
              "</svg>\n",
              "  </button>\n",
              "\n",
              "<style>\n",
              "  .colab-df-quickchart {\n",
              "      --bg-color: #E8F0FE;\n",
              "      --fill-color: #1967D2;\n",
              "      --hover-bg-color: #E2EBFA;\n",
              "      --hover-fill-color: #174EA6;\n",
              "      --disabled-fill-color: #AAA;\n",
              "      --disabled-bg-color: #DDD;\n",
              "  }\n",
              "\n",
              "  [theme=dark] .colab-df-quickchart {\n",
              "      --bg-color: #3B4455;\n",
              "      --fill-color: #D2E3FC;\n",
              "      --hover-bg-color: #434B5C;\n",
              "      --hover-fill-color: #FFFFFF;\n",
              "      --disabled-bg-color: #3B4455;\n",
              "      --disabled-fill-color: #666;\n",
              "  }\n",
              "\n",
              "  .colab-df-quickchart {\n",
              "    background-color: var(--bg-color);\n",
              "    border: none;\n",
              "    border-radius: 50%;\n",
              "    cursor: pointer;\n",
              "    display: none;\n",
              "    fill: var(--fill-color);\n",
              "    height: 32px;\n",
              "    padding: 0;\n",
              "    width: 32px;\n",
              "  }\n",
              "\n",
              "  .colab-df-quickchart:hover {\n",
              "    background-color: var(--hover-bg-color);\n",
              "    box-shadow: 0 1px 2px rgba(60, 64, 67, 0.3), 0 1px 3px 1px rgba(60, 64, 67, 0.15);\n",
              "    fill: var(--button-hover-fill-color);\n",
              "  }\n",
              "\n",
              "  .colab-df-quickchart-complete:disabled,\n",
              "  .colab-df-quickchart-complete:disabled:hover {\n",
              "    background-color: var(--disabled-bg-color);\n",
              "    fill: var(--disabled-fill-color);\n",
              "    box-shadow: none;\n",
              "  }\n",
              "\n",
              "  .colab-df-spinner {\n",
              "    border: 2px solid var(--fill-color);\n",
              "    border-color: transparent;\n",
              "    border-bottom-color: var(--fill-color);\n",
              "    animation:\n",
              "      spin 1s steps(1) infinite;\n",
              "  }\n",
              "\n",
              "  @keyframes spin {\n",
              "    0% {\n",
              "      border-color: transparent;\n",
              "      border-bottom-color: var(--fill-color);\n",
              "      border-left-color: var(--fill-color);\n",
              "    }\n",
              "    20% {\n",
              "      border-color: transparent;\n",
              "      border-left-color: var(--fill-color);\n",
              "      border-top-color: var(--fill-color);\n",
              "    }\n",
              "    30% {\n",
              "      border-color: transparent;\n",
              "      border-left-color: var(--fill-color);\n",
              "      border-top-color: var(--fill-color);\n",
              "      border-right-color: var(--fill-color);\n",
              "    }\n",
              "    40% {\n",
              "      border-color: transparent;\n",
              "      border-right-color: var(--fill-color);\n",
              "      border-top-color: var(--fill-color);\n",
              "    }\n",
              "    60% {\n",
              "      border-color: transparent;\n",
              "      border-right-color: var(--fill-color);\n",
              "    }\n",
              "    80% {\n",
              "      border-color: transparent;\n",
              "      border-right-color: var(--fill-color);\n",
              "      border-bottom-color: var(--fill-color);\n",
              "    }\n",
              "    90% {\n",
              "      border-color: transparent;\n",
              "      border-bottom-color: var(--fill-color);\n",
              "    }\n",
              "  }\n",
              "</style>\n",
              "\n",
              "  <script>\n",
              "    async function quickchart(key) {\n",
              "      const quickchartButtonEl =\n",
              "        document.querySelector('#' + key + ' button');\n",
              "      quickchartButtonEl.disabled = true;  // To prevent multiple clicks.\n",
              "      quickchartButtonEl.classList.add('colab-df-spinner');\n",
              "      try {\n",
              "        const charts = await google.colab.kernel.invokeFunction(\n",
              "            'suggestCharts', [key], {});\n",
              "      } catch (error) {\n",
              "        console.error('Error during call to suggestCharts:', error);\n",
              "      }\n",
              "      quickchartButtonEl.classList.remove('colab-df-spinner');\n",
              "      quickchartButtonEl.classList.add('colab-df-quickchart-complete');\n",
              "    }\n",
              "    (() => {\n",
              "      let quickchartButtonEl =\n",
              "        document.querySelector('#df-c5f439ee-40f2-4b81-8493-01745b5f9c5f button');\n",
              "      quickchartButtonEl.style.display =\n",
              "        google.colab.kernel.accessAllowed ? 'block' : 'none';\n",
              "    })();\n",
              "  </script>\n",
              "</div>\n",
              "\n",
              "    </div>\n",
              "  </div>\n"
            ],
            "application/vnd.google.colaboratory.intrinsic+json": {
              "type": "dataframe",
              "variable_name": "df"
            }
          },
          "metadata": {},
          "execution_count": 3
        }
      ]
    },
    {
      "cell_type": "markdown",
      "source": [
        "##Exploring the Data:\n",
        "###Understanding the dataset by exploring its structure and contents."
      ],
      "metadata": {
        "id": "ZGw7wap5UKuH"
      }
    },
    {
      "cell_type": "code",
      "source": [
        "df.columns # Displays the names of the columns"
      ],
      "metadata": {
        "colab": {
          "base_uri": "https://localhost:8080/"
        },
        "id": "AZIwXf4WPoBX",
        "outputId": "7bd66881-1ae2-439d-c497-99adebe0d7d9"
      },
      "execution_count": 4,
      "outputs": [
        {
          "output_type": "execute_result",
          "data": {
            "text/plain": [
              "Index(['rank', 'movie_id', 'title', 'year', 'link', 'imbd_votes',\n",
              "       'imbd_rating', 'certificate', 'duration', 'genre', 'cast_id',\n",
              "       'cast_name', 'director_id', 'director_name', 'writer_id', 'writer_name',\n",
              "       'storyline', 'user_id', 'user_name', 'review_id', 'review_title',\n",
              "       'review_content'],\n",
              "      dtype='object')"
            ]
          },
          "metadata": {},
          "execution_count": 4
        }
      ]
    },
    {
      "cell_type": "code",
      "source": [
        "df.shape # Displays the total count of the Rows and Columns respectively."
      ],
      "metadata": {
        "colab": {
          "base_uri": "https://localhost:8080/"
        },
        "id": "1ya3wEmjPsAA",
        "outputId": "486e2572-1339-4b9f-d127-093c9a07ce63"
      },
      "execution_count": 5,
      "outputs": [
        {
          "output_type": "execute_result",
          "data": {
            "text/plain": [
              "(250, 22)"
            ]
          },
          "metadata": {},
          "execution_count": 5
        }
      ]
    },
    {
      "cell_type": "code",
      "source": [
        "df.info() #Displays the total count of values present in the particular column along with the null count and data type."
      ],
      "metadata": {
        "colab": {
          "base_uri": "https://localhost:8080/"
        },
        "id": "LyTHm7CyIXTK",
        "outputId": "9cae8ede-bb69-41f5-e31c-6c452eb6b14a"
      },
      "execution_count": 6,
      "outputs": [
        {
          "output_type": "stream",
          "name": "stdout",
          "text": [
            "<class 'pandas.core.frame.DataFrame'>\n",
            "RangeIndex: 250 entries, 0 to 249\n",
            "Data columns (total 22 columns):\n",
            " #   Column          Non-Null Count  Dtype  \n",
            "---  ------          --------------  -----  \n",
            " 0   rank            250 non-null    int64  \n",
            " 1   movie_id        250 non-null    object \n",
            " 2   title           250 non-null    object \n",
            " 3   year            250 non-null    int64  \n",
            " 4   link            250 non-null    object \n",
            " 5   imbd_votes      250 non-null    object \n",
            " 6   imbd_rating     250 non-null    float64\n",
            " 7   certificate     249 non-null    object \n",
            " 8   duration        250 non-null    object \n",
            " 9   genre           250 non-null    object \n",
            " 10  cast_id         250 non-null    object \n",
            " 11  cast_name       250 non-null    object \n",
            " 12  director_id     250 non-null    object \n",
            " 13  director_name   250 non-null    object \n",
            " 14  writer_id       250 non-null    object \n",
            " 15  writer_name     250 non-null    object \n",
            " 16  storyline       250 non-null    object \n",
            " 17  user_id         250 non-null    object \n",
            " 18  user_name       250 non-null    object \n",
            " 19  review_id       250 non-null    object \n",
            " 20  review_title    250 non-null    object \n",
            " 21  review_content  250 non-null    object \n",
            "dtypes: float64(1), int64(2), object(19)\n",
            "memory usage: 43.1+ KB\n"
          ]
        }
      ]
    },
    {
      "cell_type": "markdown",
      "source": [
        "##Data Cleaning:\n",
        "###Checking for missing values, duplicates, or any inconsistencies and clean the data accordingly."
      ],
      "metadata": {
        "id": "oz893rNeUXDo"
      }
    },
    {
      "cell_type": "code",
      "source": [
        "df.isnull().sum()"
      ],
      "metadata": {
        "colab": {
          "base_uri": "https://localhost:8080/"
        },
        "id": "0oKTanajIbVr",
        "outputId": "e8cafa2c-f4ce-4553-aa28-346886a566e0"
      },
      "execution_count": 7,
      "outputs": [
        {
          "output_type": "execute_result",
          "data": {
            "text/plain": [
              "rank              0\n",
              "movie_id          0\n",
              "title             0\n",
              "year              0\n",
              "link              0\n",
              "imbd_votes        0\n",
              "imbd_rating       0\n",
              "certificate       1\n",
              "duration          0\n",
              "genre             0\n",
              "cast_id           0\n",
              "cast_name         0\n",
              "director_id       0\n",
              "director_name     0\n",
              "writer_id         0\n",
              "writer_name       0\n",
              "storyline         0\n",
              "user_id           0\n",
              "user_name         0\n",
              "review_id         0\n",
              "review_title      0\n",
              "review_content    0\n",
              "dtype: int64"
            ]
          },
          "metadata": {},
          "execution_count": 7
        }
      ]
    },
    {
      "cell_type": "markdown",
      "source": [
        "As we can check there is only 1 null value in the certificate column. As the count of the null value is much less, we can drop the null value as it will not affect the the out come as what we want to predict.\n"
      ],
      "metadata": {
        "id": "1FvFReeCQSJx"
      }
    },
    {
      "cell_type": "code",
      "source": [
        "df.drop_duplicates(inplace=True) #Dropping the duplicate values in the dataset."
      ],
      "metadata": {
        "id": "v-giNujFIj6M"
      },
      "execution_count": 8,
      "outputs": []
    },
    {
      "cell_type": "code",
      "source": [
        "df = df.dropna() #Dropping the null values in the dataset."
      ],
      "metadata": {
        "id": "Ws6FemcxJ2Z6"
      },
      "execution_count": 9,
      "outputs": []
    },
    {
      "cell_type": "code",
      "source": [
        "df.isnull().sum() #Displays the total count of the null values in the particular columns."
      ],
      "metadata": {
        "colab": {
          "base_uri": "https://localhost:8080/"
        },
        "id": "KhUwQX0iJ6XI",
        "outputId": "e7704ad3-0d0f-40d3-d3f3-38100f999a4c"
      },
      "execution_count": 10,
      "outputs": [
        {
          "output_type": "execute_result",
          "data": {
            "text/plain": [
              "rank              0\n",
              "movie_id          0\n",
              "title             0\n",
              "year              0\n",
              "link              0\n",
              "imbd_votes        0\n",
              "imbd_rating       0\n",
              "certificate       0\n",
              "duration          0\n",
              "genre             0\n",
              "cast_id           0\n",
              "cast_name         0\n",
              "director_id       0\n",
              "director_name     0\n",
              "writer_id         0\n",
              "writer_name       0\n",
              "storyline         0\n",
              "user_id           0\n",
              "user_name         0\n",
              "review_id         0\n",
              "review_title      0\n",
              "review_content    0\n",
              "dtype: int64"
            ]
          },
          "metadata": {},
          "execution_count": 10
        }
      ]
    },
    {
      "cell_type": "markdown",
      "source": [
        "Now there is no null value in the dataset."
      ],
      "metadata": {
        "id": "vmg4VBRhTyQW"
      }
    },
    {
      "cell_type": "markdown",
      "source": [
        "##Feature Selection\n",
        "###Identify the features that will be used for the recommendation system. Common features include:\n",
        "\n",
        "* Title\n",
        "* Genre\n",
        "* Director\n",
        "* Actors\n",
        "* Rating\n",
        "* Year"
      ],
      "metadata": {
        "id": "BoQ8FQgzUnjB"
      }
    },
    {
      "cell_type": "markdown",
      "source": [
        "###Here we are creating a data frame df['combined_features'] that will contain the the columns like genre, director name, cast name."
      ],
      "metadata": {
        "id": "6wuldE4QVUvc"
      }
    },
    {
      "cell_type": "code",
      "source": [
        "df['combined_features'] = df['genre'] + ' ' + df['director_name'] + ' ' + df['cast_name']\n"
      ],
      "metadata": {
        "colab": {
          "base_uri": "https://localhost:8080/"
        },
        "id": "Ordw6MZWKHzR",
        "outputId": "b1895e8e-8a01-4298-e90a-ea34f2ccc4e4"
      },
      "execution_count": 11,
      "outputs": [
        {
          "output_type": "stream",
          "name": "stderr",
          "text": [
            "<ipython-input-11-0bd79f9b96ac>:1: SettingWithCopyWarning: \n",
            "A value is trying to be set on a copy of a slice from a DataFrame.\n",
            "Try using .loc[row_indexer,col_indexer] = value instead\n",
            "\n",
            "See the caveats in the documentation: https://pandas.pydata.org/pandas-docs/stable/user_guide/indexing.html#returning-a-view-versus-a-copy\n",
            "  df['combined_features'] = df['genre'] + ' ' + df['director_name'] + ' ' + df['cast_name']\n"
          ]
        }
      ]
    },
    {
      "cell_type": "markdown",
      "source": [
        "##TF-IDF (Term Frequency-Inverse Document Frequency):\n",
        "\n",
        "####Term Frequency (TF): Measures the frequency of a word in a document.\n",
        "\n",
        "####Inverse Document Frequency (IDF): Measures how important a word is. It decreases the weight of commonly occurring words and increases the weight of words that are rare across documents.\n",
        "\n",
        "####The TF-IDF score for a word in a document is the product of its TF and IDF scores. This helps in giving more importance to unique words in a document and less to common words like \"the\", \"and\", etc."
      ],
      "metadata": {
        "id": "4cJ8jt2wfMFP"
      }
    },
    {
      "cell_type": "code",
      "source": [
        "from sklearn.feature_extraction.text import TfidfVectorizer\n",
        "\n",
        "tfidf = TfidfVectorizer(stop_words='english')\n",
        "#Creates an instance of TfidfVectorizer with the stop_words parameter set to 'english'.\n",
        "#stop_words='english' means that common English words (like \"the\", \"is\", \"in\") will be ignored when computing the TF-IDF scores. These are known as stop words, and removing them helps to focus on the more meaningful words in the text.\n",
        "\n",
        "tfidf_matrix = tfidf.fit_transform(df['combined_features']) #df['combined_features'] is a pandas Series containing the text data of combined features (e.g., genre, director, actors).\n",
        "#fit_transform method does two things:\n",
        "#Fit: Learns the vocabulary and IDF from the combined features.\n",
        "#Transform: Transforms the combined features into a TF-IDF matrix.\n"
      ],
      "metadata": {
        "id": "xsUvawfSLJ5u"
      },
      "execution_count": 12,
      "outputs": []
    },
    {
      "cell_type": "markdown",
      "source": [
        "##Benefits\n",
        "###Dimensionality Reduction: By ignoring common words, it reduces the number of features.\n",
        "###Importance Weighting: TF-IDF gives higher importance to rare and meaningful words, making it easier to compare documents (movies) based on significant terms."
      ],
      "metadata": {
        "id": "9OTSDCvkgfML"
      }
    },
    {
      "cell_type": "markdown",
      "source": [
        "##Understanding cosine_similarity\n",
        "###Cosine Similarity:\n",
        "\n",
        "* Cosine similarity is a measure of similarity between two non-zero vectors.\n",
        "* It calculates the cosine of the angle between two vectors in a multi-dimensional space.\n",
        "* The cosine similarity is bounded between -1 and 1, where:\n",
        "* 1 means the vectors are identical.\n",
        "* 0 means the vectors are orthogonal (no similarity).\n",
        "* -1 means the vectors are diametrically opposite."
      ],
      "metadata": {
        "id": "yK2bdt5UhXCO"
      }
    },
    {
      "cell_type": "code",
      "source": [
        "from sklearn.metrics.pairwise import cosine_similarity\n",
        "\n",
        "cosine_sim = cosine_similarity(tfidf_matrix, tfidf_matrix) #This function will provide the top 10 movies that are most similar to \"The Godfather\" based on the cosine similarity of their TF-IDF features.\n"
      ],
      "metadata": {
        "id": "rqrpygJALyaJ"
      },
      "execution_count": 13,
      "outputs": []
    },
    {
      "cell_type": "markdown",
      "source": [
        "###tfidf_matrix:\n",
        "\n",
        "###tfidf_matrix is a sparse matrix where each row represents a movie and each column represents a word (term) from the combined features. The values in the matrix are the TF-IDF scores.\n",
        "\n",
        "###cosine_similarity(tfidf_matrix, tfidf_matrix):\n",
        "\n",
        "###The cosine_similarity function from sklearn.metrics.pairwise computes the cosine similarity between all pairs of rows in the tfidf_matrix.\n",
        "###By passing tfidf_matrix as both arguments, it calculates the pairwise cosine similarity for all movies with each other."
      ],
      "metadata": {
        "id": "gNc5MHWSiApw"
      }
    },
    {
      "cell_type": "markdown",
      "source": [
        "##The Model\n",
        "###Here's the explanation of the get_recommendations function:\n",
        "\n",
        "####1) Get Movie Index:\n",
        "####Find the index of the movie that matches the provided title.\n",
        "\n",
        "####2) Calculate Similarity Scores:\n",
        "####Retrieve the cosine similarity scores for all movies with the selected movie.\n",
        "#####enumerate pairs each movie's index with its similarity score.\n",
        "\n",
        "#####3) Sort Similarity Scores:\n",
        "#####Sort these similarity scores in descending order (most similar first).\n",
        "\n",
        "####4) Select Top Movies:\n",
        "####Select the top 10 most similar movies, excluding the first one (which is the movie itself).\n",
        "\n",
        "####5) Retrieve Movie Titles:\n",
        "\n",
        "####Get the indices of these top similar movies.\n",
        "####Return their titles from the dataframe."
      ],
      "metadata": {
        "id": "Q8ARcH1Xi5ck"
      }
    },
    {
      "cell_type": "code",
      "source": [
        "def get_recommendations(title, cosine_sim=cosine_sim):\n",
        "    # Get the index of the movie that matches the title\n",
        "    idx = df[df['title'] == title].index[0]\n",
        "\n",
        "    # Get the pairwise similarity scores of all movies with that movie\n",
        "    sim_scores = list(enumerate(cosine_sim[idx]))\n",
        "\n",
        "    # Sort the movies based on the similarity scores\n",
        "    sim_scores = sorted(sim_scores, key=lambda x: x[1], reverse=True)\n",
        "\n",
        "    # Get the scores of the 10 most similar movies\n",
        "    sim_scores = sim_scores[1:11]\n",
        "\n",
        "    # Get the movie indices\n",
        "    movie_indices = [i[0] for i in sim_scores]\n",
        "\n",
        "    # Return the top 10 most similar movies\n",
        "    return df['title'].iloc[movie_indices]\n"
      ],
      "metadata": {
        "id": "xtRhyw1tL5ga"
      },
      "execution_count": 14,
      "outputs": []
    },
    {
      "cell_type": "code",
      "source": [
        "recommendations = get_recommendations('The Godfather') #As we input the name of the movie, we get the reccomendations.\n",
        "recommendations\n"
      ],
      "metadata": {
        "colab": {
          "base_uri": "https://localhost:8080/"
        },
        "id": "tN3g_JDqL8-Y",
        "outputId": "cb4f171a-0581-49aa-fd42-ce04ce10af83"
      },
      "execution_count": 15,
      "outputs": [
        {
          "output_type": "execute_result",
          "data": {
            "text/plain": [
              "3            The Godfather Part II\n",
              "52                  Apocalypse Now\n",
              "16                      Goodfellas\n",
              "135                         Casino\n",
              "156                    Raging Bull\n",
              "210                          Rocky\n",
              "79     Once Upon a Time in America\n",
              "128               Some Like It Hot\n",
              "68           The Dark Knight Rises\n",
              "108                           Heat\n",
              "Name: title, dtype: object"
            ]
          },
          "metadata": {},
          "execution_count": 15
        }
      ]
    },
    {
      "cell_type": "code",
      "source": [
        "recommendations = get_recommendations('The Dark Knight') #testing with other movie names\n",
        "recommendations"
      ],
      "metadata": {
        "colab": {
          "base_uri": "https://localhost:8080/"
        },
        "id": "RYLWATJxMAAP",
        "outputId": "66a6dd10-be6b-4373-9225-97c595941e7e"
      },
      "execution_count": 16,
      "outputs": [
        {
          "output_type": "execute_result",
          "data": {
            "text/plain": [
              "68                              The Dark Knight Rises\n",
              "126                                     Batman Begins\n",
              "131                           The Wolf of Wall Street\n",
              "179      Harry Potter and the Deathly Hallows: Part 2\n",
              "88         Star Wars: Episode VI - Return of the Jedi\n",
              "208                                    Ford v Ferrari\n",
              "14     Star Wars: Episode V - The Empire Strikes Back\n",
              "38                                       The Departed\n",
              "6       The Lord of the Rings: The Return of the King\n",
              "142                                  A Beautiful Mind\n",
              "Name: title, dtype: object"
            ]
          },
          "metadata": {},
          "execution_count": 16
        }
      ]
    },
    {
      "cell_type": "code",
      "source": [
        "recommendations = get_recommendations('12 Angry Men') #testing with other movie names\n",
        "recommendations"
      ],
      "metadata": {
        "colab": {
          "base_uri": "https://localhost:8080/"
        },
        "id": "d7vnxswRMQni",
        "outputId": "2bcaf0f8-6a97-48a9-a1cc-5497e14d5336"
      },
      "execution_count": 17,
      "outputs": [
        {
          "output_type": "execute_result",
          "data": {
            "text/plain": [
              "94                     Citizen Kane\n",
              "181               On the Waterfront\n",
              "232             The Grapes of Wrath\n",
              "196    Mr. Smith Goes to Washington\n",
              "133           Judgment at Nuremberg\n",
              "218                         Network\n",
              "58                     Sunset Blvd.\n",
              "103                Double Indemnity\n",
              "176                   The Gold Rush\n",
              "110                       The Sting\n",
              "Name: title, dtype: object"
            ]
          },
          "metadata": {},
          "execution_count": 17
        }
      ]
    }
  ]
}